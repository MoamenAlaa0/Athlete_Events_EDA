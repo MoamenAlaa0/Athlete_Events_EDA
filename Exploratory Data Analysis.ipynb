{
 "cells": [
  {
   "cell_type": "code",
   "execution_count": 1,
   "id": "324a2e0a",
   "metadata": {},
   "outputs": [],
   "source": [
    "import pandas as pd\n",
    "import numpy as np\n",
    "import re\n",
    "import matplotlib.pyplot as plt"
   ]
  },
  {
   "cell_type": "code",
   "execution_count": 2,
   "id": "9f4fa7c1",
   "metadata": {},
   "outputs": [],
   "source": [
    "athlete_events = pd.read_csv('athlete_events_cleaned.csv')"
   ]
  },
  {
   "cell_type": "code",
   "execution_count": 3,
   "id": "83862896",
   "metadata": {
    "scrolled": true
   },
   "outputs": [
    {
     "data": {
      "text/html": [
       "<div>\n",
       "<style scoped>\n",
       "    .dataframe tbody tr th:only-of-type {\n",
       "        vertical-align: middle;\n",
       "    }\n",
       "\n",
       "    .dataframe tbody tr th {\n",
       "        vertical-align: top;\n",
       "    }\n",
       "\n",
       "    .dataframe thead th {\n",
       "        text-align: right;\n",
       "    }\n",
       "</style>\n",
       "<table border=\"1\" class=\"dataframe\">\n",
       "  <thead>\n",
       "    <tr style=\"text-align: right;\">\n",
       "      <th></th>\n",
       "      <th>Name</th>\n",
       "      <th>Sex</th>\n",
       "      <th>Age</th>\n",
       "      <th>Height</th>\n",
       "      <th>Weight</th>\n",
       "      <th>Team</th>\n",
       "      <th>NOC</th>\n",
       "      <th>Games</th>\n",
       "      <th>Year</th>\n",
       "      <th>Season</th>\n",
       "      <th>City</th>\n",
       "      <th>Sport</th>\n",
       "      <th>Event</th>\n",
       "      <th>Medal</th>\n",
       "    </tr>\n",
       "  </thead>\n",
       "  <tbody>\n",
       "    <tr>\n",
       "      <th>0</th>\n",
       "      <td>A Dijiang</td>\n",
       "      <td>M</td>\n",
       "      <td>24</td>\n",
       "      <td>180</td>\n",
       "      <td>80</td>\n",
       "      <td>China</td>\n",
       "      <td>CHN</td>\n",
       "      <td>1992 Summer</td>\n",
       "      <td>1992</td>\n",
       "      <td>Summer</td>\n",
       "      <td>Barcelona</td>\n",
       "      <td>Basketball</td>\n",
       "      <td>Basketball Men's Basketball</td>\n",
       "      <td>No</td>\n",
       "    </tr>\n",
       "    <tr>\n",
       "      <th>1</th>\n",
       "      <td>A Lamusi</td>\n",
       "      <td>M</td>\n",
       "      <td>23</td>\n",
       "      <td>170</td>\n",
       "      <td>60</td>\n",
       "      <td>China</td>\n",
       "      <td>CHN</td>\n",
       "      <td>2012 Summer</td>\n",
       "      <td>2012</td>\n",
       "      <td>Summer</td>\n",
       "      <td>London</td>\n",
       "      <td>Judo</td>\n",
       "      <td>Judo Men's Extra-Lightweight</td>\n",
       "      <td>No</td>\n",
       "    </tr>\n",
       "    <tr>\n",
       "      <th>2</th>\n",
       "      <td>Gunnar Nielsen Aaby</td>\n",
       "      <td>M</td>\n",
       "      <td>24</td>\n",
       "      <td>175</td>\n",
       "      <td>70</td>\n",
       "      <td>Denmark</td>\n",
       "      <td>DEN</td>\n",
       "      <td>1920 Summer</td>\n",
       "      <td>1920</td>\n",
       "      <td>Summer</td>\n",
       "      <td>Antwerpen</td>\n",
       "      <td>Football</td>\n",
       "      <td>Football Men's Football</td>\n",
       "      <td>No</td>\n",
       "    </tr>\n",
       "    <tr>\n",
       "      <th>3</th>\n",
       "      <td>Edgar Lindenau Aabye</td>\n",
       "      <td>M</td>\n",
       "      <td>34</td>\n",
       "      <td>188</td>\n",
       "      <td>95</td>\n",
       "      <td>Denmark</td>\n",
       "      <td>DEN</td>\n",
       "      <td>1900 Summer</td>\n",
       "      <td>1900</td>\n",
       "      <td>Summer</td>\n",
       "      <td>Paris</td>\n",
       "      <td>Tug-Of-War</td>\n",
       "      <td>Tug-Of-War Men's Tug-Of-War</td>\n",
       "      <td>Gold</td>\n",
       "    </tr>\n",
       "    <tr>\n",
       "      <th>4</th>\n",
       "      <td>Christine Jacoba Aaftink</td>\n",
       "      <td>F</td>\n",
       "      <td>21</td>\n",
       "      <td>185</td>\n",
       "      <td>82</td>\n",
       "      <td>Netherlands</td>\n",
       "      <td>NED</td>\n",
       "      <td>1988 Winter</td>\n",
       "      <td>1988</td>\n",
       "      <td>Winter</td>\n",
       "      <td>Calgary</td>\n",
       "      <td>Speed Skating</td>\n",
       "      <td>Speed Skating Women's 500 metres</td>\n",
       "      <td>No</td>\n",
       "    </tr>\n",
       "  </tbody>\n",
       "</table>\n",
       "</div>"
      ],
      "text/plain": [
       "                       Name Sex  Age  Height  Weight         Team  NOC  \\\n",
       "0                 A Dijiang   M   24     180      80        China  CHN   \n",
       "1                  A Lamusi   M   23     170      60        China  CHN   \n",
       "2       Gunnar Nielsen Aaby   M   24     175      70      Denmark  DEN   \n",
       "3      Edgar Lindenau Aabye   M   34     188      95      Denmark  DEN   \n",
       "4  Christine Jacoba Aaftink   F   21     185      82  Netherlands  NED   \n",
       "\n",
       "         Games  Year  Season       City          Sport  \\\n",
       "0  1992 Summer  1992  Summer  Barcelona     Basketball   \n",
       "1  2012 Summer  2012  Summer     London           Judo   \n",
       "2  1920 Summer  1920  Summer  Antwerpen       Football   \n",
       "3  1900 Summer  1900  Summer      Paris     Tug-Of-War   \n",
       "4  1988 Winter  1988  Winter    Calgary  Speed Skating   \n",
       "\n",
       "                              Event Medal  \n",
       "0       Basketball Men's Basketball    No  \n",
       "1      Judo Men's Extra-Lightweight    No  \n",
       "2           Football Men's Football    No  \n",
       "3       Tug-Of-War Men's Tug-Of-War  Gold  \n",
       "4  Speed Skating Women's 500 metres    No  "
      ]
     },
     "execution_count": 3,
     "metadata": {},
     "output_type": "execute_result"
    }
   ],
   "source": [
    "athlete_events.head()"
   ]
  },
  {
   "cell_type": "code",
   "execution_count": 4,
   "id": "de8f70eb",
   "metadata": {
    "scrolled": true
   },
   "outputs": [
    {
     "data": {
      "text/plain": [
       "(269743, 14)"
      ]
     },
     "execution_count": 4,
     "metadata": {},
     "output_type": "execute_result"
    }
   ],
   "source": [
    "# ~ 270K row\n",
    "athlete_events.shape"
   ]
  },
  {
   "cell_type": "markdown",
   "id": "3e22c246",
   "metadata": {},
   "source": [
    "# Descriptive statistics"
   ]
  },
  {
   "cell_type": "code",
   "execution_count": 5,
   "id": "4d7c6184",
   "metadata": {
    "scrolled": false
   },
   "outputs": [
    {
     "data": {
      "text/html": [
       "<div>\n",
       "<style scoped>\n",
       "    .dataframe tbody tr th:only-of-type {\n",
       "        vertical-align: middle;\n",
       "    }\n",
       "\n",
       "    .dataframe tbody tr th {\n",
       "        vertical-align: top;\n",
       "    }\n",
       "\n",
       "    .dataframe thead th {\n",
       "        text-align: right;\n",
       "    }\n",
       "</style>\n",
       "<table border=\"1\" class=\"dataframe\">\n",
       "  <thead>\n",
       "    <tr style=\"text-align: right;\">\n",
       "      <th></th>\n",
       "      <th>Age</th>\n",
       "      <th>Height</th>\n",
       "      <th>Weight</th>\n",
       "      <th>Year</th>\n",
       "    </tr>\n",
       "  </thead>\n",
       "  <tbody>\n",
       "    <tr>\n",
       "      <th>count</th>\n",
       "      <td>269743</td>\n",
       "      <td>269743</td>\n",
       "      <td>269743</td>\n",
       "      <td>269743</td>\n",
       "    </tr>\n",
       "    <tr>\n",
       "      <th>mean</th>\n",
       "      <td>25</td>\n",
       "      <td>175</td>\n",
       "      <td>70</td>\n",
       "      <td>1978</td>\n",
       "    </tr>\n",
       "    <tr>\n",
       "      <th>std</th>\n",
       "      <td>6</td>\n",
       "      <td>9</td>\n",
       "      <td>13</td>\n",
       "      <td>29</td>\n",
       "    </tr>\n",
       "    <tr>\n",
       "      <th>min</th>\n",
       "      <td>10</td>\n",
       "      <td>127</td>\n",
       "      <td>25</td>\n",
       "      <td>1896</td>\n",
       "    </tr>\n",
       "    <tr>\n",
       "      <th>25%</th>\n",
       "      <td>22</td>\n",
       "      <td>169</td>\n",
       "      <td>62</td>\n",
       "      <td>1960</td>\n",
       "    </tr>\n",
       "    <tr>\n",
       "      <th>50%</th>\n",
       "      <td>24</td>\n",
       "      <td>175</td>\n",
       "      <td>70</td>\n",
       "      <td>1988</td>\n",
       "    </tr>\n",
       "    <tr>\n",
       "      <th>75%</th>\n",
       "      <td>28</td>\n",
       "      <td>181</td>\n",
       "      <td>77</td>\n",
       "      <td>2002</td>\n",
       "    </tr>\n",
       "    <tr>\n",
       "      <th>max</th>\n",
       "      <td>97</td>\n",
       "      <td>229</td>\n",
       "      <td>214</td>\n",
       "      <td>2016</td>\n",
       "    </tr>\n",
       "  </tbody>\n",
       "</table>\n",
       "</div>"
      ],
      "text/plain": [
       "          Age  Height  Weight    Year\n",
       "count  269743  269743  269743  269743\n",
       "mean       25     175      70    1978\n",
       "std         6       9      13      29\n",
       "min        10     127      25    1896\n",
       "25%        22     169      62    1960\n",
       "50%        24     175      70    1988\n",
       "75%        28     181      77    2002\n",
       "max        97     229     214    2016"
      ]
     },
     "execution_count": 5,
     "metadata": {},
     "output_type": "execute_result"
    }
   ],
   "source": [
    "athlete_events.describe().astype('int64')"
   ]
  },
  {
   "cell_type": "code",
   "execution_count": 6,
   "id": "236d0982",
   "metadata": {},
   "outputs": [
    {
     "data": {
      "text/plain": [
       "120"
      ]
     },
     "execution_count": 6,
     "metadata": {},
     "output_type": "execute_result"
    }
   ],
   "source": [
    "# 120 years of Olympic history: from 1896 to 2016\n",
    "athlete_events['Year'].max() - athlete_events['Year'].min()"
   ]
  },
  {
   "cell_type": "code",
   "execution_count": 7,
   "id": "2e9b57d1",
   "metadata": {},
   "outputs": [
    {
     "data": {
      "text/plain": [
       "35"
      ]
     },
     "execution_count": 7,
     "metadata": {},
     "output_type": "execute_result"
    }
   ],
   "source": [
    "# 35 Olympics Game\n",
    "len(athlete_events['Year'].unique())"
   ]
  },
  {
   "cell_type": "code",
   "execution_count": 8,
   "id": "7a0755cf",
   "metadata": {
    "scrolled": true
   },
   "outputs": [
    {
     "name": "stdout",
     "output_type": "stream",
     "text": [
      "(1896, 1900): 4\n",
      "(1900, 1904): 4\n",
      "(1904, 1906): 2\n",
      "(1906, 1908): 2\n",
      "(1908, 1912): 4\n",
      "(1912, 1920): 8\n",
      "(1920, 1924): 4\n",
      "(1924, 1928): 4\n",
      "(1928, 1932): 4\n",
      "(1932, 1936): 4\n",
      "(1936, 1948): 12\n",
      "(1948, 1952): 4\n",
      "(1952, 1956): 4\n",
      "(1956, 1960): 4\n",
      "(1960, 1964): 4\n",
      "(1964, 1968): 4\n",
      "(1968, 1972): 4\n",
      "(1972, 1976): 4\n",
      "(1976, 1980): 4\n",
      "(1980, 1984): 4\n",
      "(1984, 1988): 4\n",
      "(1988, 1992): 4\n",
      "(1992, 1994): 2\n",
      "(1994, 1996): 2\n",
      "(1996, 1998): 2\n",
      "(1998, 2000): 2\n",
      "(2000, 2002): 2\n",
      "(2002, 2004): 2\n",
      "(2004, 2006): 2\n",
      "(2006, 2008): 2\n",
      "(2008, 2010): 2\n",
      "(2010, 2012): 2\n",
      "(2012, 2014): 2\n",
      "(2014, 2016): 2\n"
     ]
    }
   ],
   "source": [
    "years = sorted(athlete_events['Year'].unique())\n",
    "\n",
    "for i in range(len(years)-1): \n",
    "    print(f\"{(years[i], years[i+1])}: {years[i+1] - years[i]}\")"
   ]
  },
  {
   "cell_type": "markdown",
   "id": "794d35f5",
   "metadata": {},
   "source": [
    "The difference between each game and the other is 4 or 2 years, however there is a big gap in (1912, 1920) and (1936, 1948)\n",
    "\n",
    "**After searching:**\n",
    "- The `1916 Summer Olympics` to have been held in Berlin, capital of the German Empire, were cancelled due to world war I. When the Olympic Games resumed after the war, Antwerp was awarded hosting the `1920 Summer Games` as tribute to the Belgian people. \n",
    "\n",
    "- The `1948 Summer Olympics` I found that the twelve-year hiatus caused by the outbreak of world war II. The world war II lasted from 1939 to 1945."
   ]
  },
  {
   "cell_type": "markdown",
   "id": "b0db84be",
   "metadata": {},
   "source": [
    "### Exploring `Age` column"
   ]
  },
  {
   "cell_type": "code",
   "execution_count": 9,
   "id": "e209a372",
   "metadata": {},
   "outputs": [
    {
     "data": {
      "image/png": "[encoded data removed]",
      "text/plain": [
       "<Figure size 432x288 with 1 Axes>"
      ]
     },
     "metadata": {
      "needs_background": "light"
     },
     "output_type": "display_data"
    }
   ],
   "source": [
    "plt.hist(athlete_events['Age'])\n",
    "plt.show()"
   ]
  },
  {
   "cell_type": "code",
   "execution_count": 10,
   "id": "0406d27d",
   "metadata": {},
   "outputs": [
    {
     "data": {
      "image/png": "[encoded data removed]",
      "text/plain": [
       "<Figure size 432x288 with 1 Axes>"
      ]
     },
     "metadata": {
      "needs_background": "light"
     },
     "output_type": "display_data"
    }
   ],
   "source": [
    "plt.boxplot(athlete_events['Age'])\n",
    "plt.show()"
   ]
  },
  {
   "cell_type": "markdown",
   "id": "1d1ad518",
   "metadata": {},
   "source": [
    "The shape is a right-skewed and has a many outliers values, I'll categorize the column to have a better look."
   ]
  },
  {
   "cell_type": "code",
   "execution_count": 11,
   "id": "b10741f3",
   "metadata": {},
   "outputs": [],
   "source": [
    "# Categorize Age column\n",
    "bins = [athlete_events['Age'].min()-1, 16, 30, 45, athlete_events['Age'].max()] # [exclusive, inclusive, ex.., in..]\n",
    "labels = ['Child', 'Young Adult', 'Middle-aged Adult', 'Old-aged Adult']\n",
    "\n",
    "athlete_events['Age Group'] = pd.cut(athlete_events['Age'], bins=bins, labels=labels)"
   ]
  },
  {
   "cell_type": "code",
   "execution_count": 12,
   "id": "8be80af1",
   "metadata": {},
   "outputs": [
    {
     "data": {
      "image/png": "[encoded data removed]",
      "text/plain": [
       "<Figure size 1080x432 with 2 Axes>"
      ]
     },
     "metadata": {
      "needs_background": "light"
     },
     "output_type": "display_data"
    }
   ],
   "source": [
    "age_dict = athlete_events['Age Group'].value_counts().to_dict()\n",
    "\n",
    "values = [age_dict['Child'], age_dict['Young Adult'], age_dict['Middle-aged Adult'], age_dict['Old-aged Adult']]\n",
    "labels = ['Child', 'Young Adult', 'Middle-aged Adult', 'Old-aged Adult']\n",
    "\n",
    "fig, axes = plt.subplots(1, 2, figsize=(15, 6))\n",
    "\n",
    "# Bar chart\n",
    "axes[0].bar(labels, values)\n",
    "for index, data in enumerate(values):\n",
    "    axes[0].text(x=index, y=data, s=f\"{data}\", fontsize=10)\n",
    "axes[0].set_title('Frequencies of each age group')\n",
    "\n",
    "# Pie Chart\n",
    "axes[1].pie(values, labels=labels, autopct='%1.1f%%')\n",
    "axes[1].legend(title = 'Age Group')\n",
    "axes[1].set_title('Proportions of each age group')\n",
    "\n",
    "plt.show()"
   ]
  },
  {
   "cell_type": "markdown",
   "id": "870e6aad",
   "metadata": {},
   "source": [
    "**Distribution of `Age Group` for players who won medals**"
   ]
  },
  {
   "cell_type": "code",
   "execution_count": 13,
   "id": "d7fb69a6",
   "metadata": {
    "scrolled": false
   },
   "outputs": [
    {
     "name": "stdout",
     "output_type": "stream",
     "text": [
      "As I expected the youth are the most medalists.\n"
     ]
    },
    {
     "data": {
      "image/png": "[encoded data removed]",
      "text/plain": [
       "<Figure size 1080x432 with 2 Axes>"
      ]
     },
     "metadata": {
      "needs_background": "light"
     },
     "output_type": "display_data"
    }
   ],
   "source": [
    "# Bar chart of ages for players who won medals\n",
    "won_medal = athlete_events[athlete_events['Medal'] != 'No']['Age Group'].value_counts().to_dict()\n",
    "\n",
    "values = [won_medal['Child'], won_medal['Young Adult'], won_medal['Middle-aged Adult'], won_medal['Old-aged Adult']]\n",
    "labels = ['Child', 'Young Adult', 'Middle-aged Adult', 'Old-aged Adult']\n",
    "\n",
    "print(\"As I expected the youth are the most medalists.\")\n",
    "\n",
    "fig, axes = plt.subplots(1, 2, figsize=(15, 6))\n",
    "\n",
    "# Bar chart\n",
    "axes[0].bar(labels, values)\n",
    "for index, data in enumerate(values):\n",
    "    axes[0].text(x=index, y=data, s=f\"{data}\", fontsize=10)\n",
    "axes[0].set_title('Frequencies of age group for who won')\n",
    "\n",
    "# Pie Chart\n",
    "axes[1].pie(values, labels=labels, autopct='%1.1f%%')\n",
    "axes[1].legend(title = 'Age Group')\n",
    "axes[1].set_title('Proportions of age group for who won')\n",
    "\n",
    "plt.show()"
   ]
  },
  {
   "cell_type": "code",
   "execution_count": 14,
   "id": "694df643",
   "metadata": {
    "scrolled": false
   },
   "outputs": [
    {
     "data": {
      "image/png": "[encoded data removed]",
      "text/plain": [
       "<Figure size 648x648 with 4 Axes>"
      ]
     },
     "metadata": {},
     "output_type": "display_data"
    }
   ],
   "source": [
    "all_age = [age_dict['Child'], age_dict['Young Adult'], age_dict['Middle-aged Adult'], age_dict['Old-aged Adult']]\n",
    "won_age = [won_medal['Child'], won_medal['Young Adult'], won_medal['Middle-aged Adult'], won_medal['Old-aged Adult']]\n",
    "\n",
    "labels = ['Child', 'Young Adult', 'Middle-aged Adult', 'Old-aged Adult']\n",
    "\n",
    "fig, axes = plt.subplots(2, 2, figsize=(9, 9))\n",
    "\n",
    "for all_, won, label, ax in zip(all_age, won_age, labels, axes.flatten()):\n",
    "    ax.pie([all_, won], labels=['Not Won', 'Won'], autopct='%1.1f%%')\n",
    "    ax.set_title(f\"Proportions of {label}s\")"
   ]
  },
  {
   "cell_type": "markdown",
   "id": "e1f8614a",
   "metadata": {},
   "source": [
    "**Distribution of the `Height` for each `Age Group`**"
   ]
  },
  {
   "cell_type": "code",
   "execution_count": 15,
   "id": "52483da3",
   "metadata": {},
   "outputs": [
    {
     "data": {
      "image/png": "[encoded data removed]",
      "text/plain": [
       "<Figure size 648x648 with 4 Axes>"
      ]
     },
     "metadata": {
      "needs_background": "light"
     },
     "output_type": "display_data"
    }
   ],
   "source": [
    "labels = ['Child', 'Young Adult', 'Middle-aged Adult', 'Old-aged Adult']\n",
    "fig, axes = plt.subplots(2, 2, figsize=(9, 9))\n",
    "\n",
    "for label, ax in zip(labels, axes.flatten()):\n",
    "    ax.hist(athlete_events[athlete_events['Age Group'] == label]['Height'])\n",
    "    ax.set_title(f'Distribution of {label}')\n",
    "    \n",
    "plt.show()"
   ]
  },
  {
   "cell_type": "markdown",
   "id": "2c6adfd2",
   "metadata": {},
   "source": [
    "**Distribution of the `Weight` for each `Age Group`**"
   ]
  },
  {
   "cell_type": "code",
   "execution_count": 16,
   "id": "4b43a197",
   "metadata": {},
   "outputs": [
    {
     "data": {
      "image/png": "[encoded data removed]",
      "text/plain": [
       "<Figure size 648x648 with 4 Axes>"
      ]
     },
     "metadata": {
      "needs_background": "light"
     },
     "output_type": "display_data"
    }
   ],
   "source": [
    "fig, axes = plt.subplots(2, 2, figsize=(9, 9))\n",
    "\n",
    "for label, ax in zip(labels, axes.flatten()):\n",
    "    ax.hist(athlete_events[athlete_events['Age Group'] == label]['Weight'])\n",
    "    ax.set_title(f'Distribution of {label}')\n",
    "    \n",
    "plt.show()"
   ]
  },
  {
   "cell_type": "markdown",
   "id": "b5a10122",
   "metadata": {},
   "source": [
    "**Relationship between `Weight` and `Height` for each `Age Group`**"
   ]
  },
  {
   "cell_type": "code",
   "execution_count": 17,
   "id": "b84e98e2",
   "metadata": {},
   "outputs": [
    {
     "data": {
      "image/png": "[encoded data removed]",
      "text/plain": [
       "<Figure size 648x648 with 4 Axes>"
      ]
     },
     "metadata": {
      "needs_background": "light"
     },
     "output_type": "display_data"
    }
   ],
   "source": [
    "fig, axes = plt.subplots(2, 2, figsize=(9, 9))\n",
    "\n",
    "for label, ax in zip(labels, axes.flatten()):\n",
    "    Height = athlete_events[athlete_events['Age Group'] == label]['Height']\n",
    "    Weight = athlete_events[athlete_events['Age Group'] == label]['Weight']\n",
    "    ax.scatter(x = Weight, y = Height)\n",
    "    ax.set_title(f'Distribution of {label}')\n",
    "    \n",
    "plt.show()"
   ]
  },
  {
   "cell_type": "markdown",
   "id": "1bc54a34",
   "metadata": {},
   "source": [
    "### Exploring `Medal` column"
   ]
  },
  {
   "cell_type": "code",
   "execution_count": 18,
   "id": "8bdeb7e3",
   "metadata": {
    "scrolled": true
   },
   "outputs": [
    {
     "data": {
      "text/plain": [
       "No        229971\n",
       "Gold       13369\n",
       "Bronze     13295\n",
       "Silver     13108\n",
       "Name: Medal, dtype: int64"
      ]
     },
     "execution_count": 18,
     "metadata": {},
     "output_type": "execute_result"
    }
   ],
   "source": [
    "athlete_events['Medal'].value_counts()"
   ]
  },
  {
   "cell_type": "code",
   "execution_count": 19,
   "id": "70d85e91",
   "metadata": {},
   "outputs": [
    {
     "data": {
      "text/plain": [
       "39772"
      ]
     },
     "execution_count": 19,
     "metadata": {},
     "output_type": "execute_result"
    }
   ],
   "source": [
    "len(athlete_events[athlete_events['Medal'] != 'No'])"
   ]
  },
  {
   "cell_type": "markdown",
   "id": "dab1d908",
   "metadata": {},
   "source": [
    "**Frequency Table of `Medals` for each gender**"
   ]
  },
  {
   "cell_type": "code",
   "execution_count": 20,
   "id": "9abb0d25",
   "metadata": {
    "scrolled": true
   },
   "outputs": [
    {
     "data": {
      "text/html": [
       "<div>\n",
       "<style scoped>\n",
       "    .dataframe tbody tr th:only-of-type {\n",
       "        vertical-align: middle;\n",
       "    }\n",
       "\n",
       "    .dataframe tbody tr th {\n",
       "        vertical-align: top;\n",
       "    }\n",
       "\n",
       "    .dataframe thead th {\n",
       "        text-align: right;\n",
       "    }\n",
       "</style>\n",
       "<table border=\"1\" class=\"dataframe\">\n",
       "  <thead>\n",
       "    <tr style=\"text-align: right;\">\n",
       "      <th></th>\n",
       "      <th>Males</th>\n",
       "      <th>Females</th>\n",
       "      <th>TOTAL COUNTS</th>\n",
       "      <th>TOTAL PERCENTAGE</th>\n",
       "    </tr>\n",
       "  </thead>\n",
       "  <tbody>\n",
       "    <tr>\n",
       "      <th>Gold</th>\n",
       "      <td>9622</td>\n",
       "      <td>3747</td>\n",
       "      <td>13369</td>\n",
       "      <td>4.96</td>\n",
       "    </tr>\n",
       "    <tr>\n",
       "      <th>Silver</th>\n",
       "      <td>9373</td>\n",
       "      <td>3735</td>\n",
       "      <td>13108</td>\n",
       "      <td>4.86</td>\n",
       "    </tr>\n",
       "    <tr>\n",
       "      <th>Bronze</th>\n",
       "      <td>9524</td>\n",
       "      <td>3771</td>\n",
       "      <td>13295</td>\n",
       "      <td>4.93</td>\n",
       "    </tr>\n",
       "    <tr>\n",
       "      <th>No</th>\n",
       "      <td>166841</td>\n",
       "      <td>63130</td>\n",
       "      <td>229971</td>\n",
       "      <td>85.26</td>\n",
       "    </tr>\n",
       "    <tr>\n",
       "      <th>Total</th>\n",
       "      <td>195360</td>\n",
       "      <td>74383</td>\n",
       "      <td>269743</td>\n",
       "      <td>100.01</td>\n",
       "    </tr>\n",
       "  </tbody>\n",
       "</table>\n",
       "</div>"
      ],
      "text/plain": [
       "         Males  Females  TOTAL COUNTS  TOTAL PERCENTAGE\n",
       "Gold      9622     3747         13369              4.96\n",
       "Silver    9373     3735         13108              4.86\n",
       "Bronze    9524     3771         13295              4.93\n",
       "No      166841    63130        229971             85.26\n",
       "Total   195360    74383        269743            100.01"
      ]
     },
     "execution_count": 20,
     "metadata": {},
     "output_type": "execute_result"
    }
   ],
   "source": [
    "# Frequency Table for 'Medal' column and for each gender\n",
    "total_counts = athlete_events['Medal'].value_counts()\n",
    "total_percentage = round(athlete_events['Medal'].value_counts(normalize=True).mul(100), 2)\n",
    "\n",
    "m_counts = athlete_events[athlete_events['Sex'] == 'M']['Medal'].value_counts()\n",
    "f_counts = athlete_events[athlete_events['Sex'] == 'F']['Medal'].value_counts()\n",
    "\n",
    "medal_freq = pd.concat([m_counts, f_counts, total_counts, total_percentage], axis=1, keys=('Males', 'Females',\n",
    "                                                                                           'TOTAL COUNTS','TOTAL PERCENTAGE'))\n",
    "medal_freq.loc['Total'] = [medal_freq['Males'].sum(), medal_freq['Females'].sum(),\n",
    "                           medal_freq['TOTAL COUNTS'].sum(), medal_freq['TOTAL PERCENTAGE'].sum()]\n",
    "\n",
    "# Rorder the rows\n",
    "medal_freq = medal_freq.reindex(['Gold', 'Silver', 'Bronze', 'No', 'Total']).astype({col: int for col in medal_freq.columns[:-1]})\n",
    "medal_freq"
   ]
  },
  {
   "cell_type": "markdown",
   "id": "d98c5d9a",
   "metadata": {},
   "source": [
    "**Visualizing `Medals`**"
   ]
  },
  {
   "cell_type": "code",
   "execution_count": 21,
   "id": "7d54cbe0",
   "metadata": {
    "scrolled": false
   },
   "outputs": [
    {
     "name": "stdout",
     "output_type": "stream",
     "text": [
      "39772 Total players won a medals from 269743, about 15% from the participating players over 35 Olympics Game\n"
     ]
    },
    {
     "data": {
      "image/png": "[encoded data removed]",
      "text/plain": [
       "<Figure size 432x432 with 1 Axes>"
      ]
     },
     "metadata": {},
     "output_type": "display_data"
    }
   ],
   "source": [
    "won = medal_freq.loc[['Gold', 'Silver', 'Bronze'], 'TOTAL COUNTS'].sum()\n",
    "total = medal_freq.loc['Total', 'TOTAL COUNTS']\n",
    "won_perc = int(round(won/total, 2) * 100)\n",
    "print(f\"{won} Total players won a medals from {total}, about {won_perc}% from the participating players over 35 Olympics Game\")\n",
    "\n",
    "# Pie cahrt\n",
    "values = medal_freq.loc[medal_freq.index != 'Total', 'TOTAL COUNTS']\n",
    "labels = medal_freq.index.to_list()[:-1]\n",
    "\n",
    "plt.figure(figsize=(6,6))\n",
    "plt.pie(values, labels=labels, autopct='%1.1f%%')\n",
    "plt.legend(title = 'Olympics Medals')\n",
    "plt.title('Proportions of each medal')\n",
    "plt.show()"
   ]
  },
  {
   "cell_type": "markdown",
   "id": "60037dfb",
   "metadata": {},
   "source": [
    "**Visualizing `Sex` column for players who won medals**"
   ]
  },
  {
   "cell_type": "code",
   "execution_count": 22,
   "id": "3cf31732",
   "metadata": {
    "scrolled": false
   },
   "outputs": [
    {
     "name": "stdout",
     "output_type": "stream",
     "text": [
      "28519 Male and 11253 Female who won a medals from 39772 , About 72% males and 28% females\n"
     ]
    },
    {
     "data": {
      "image/png": "[encoded data removed]",
      "text/plain": [
       "<Figure size 432x432 with 1 Axes>"
      ]
     },
     "metadata": {},
     "output_type": "display_data"
    }
   ],
   "source": [
    "male = medal_freq.loc[['Gold', 'Silver', 'Bronze'], 'Males'].sum()\n",
    "female = medal_freq.loc[['Gold', 'Silver', 'Bronze'], 'Females'].sum()\n",
    "\n",
    "men_perc = int(round(male/won, 2) * 100)\n",
    "fem_perc = int(round(female/won, 2) * 100)\n",
    "print(f\"{male} Male and {female} Female who won a medals from {won} , About {men_perc}% males and {fem_perc}% females\")\n",
    "\n",
    "# Pie cahrt\n",
    "values = [male, female]\n",
    "labels = ['Male', 'Female']\n",
    "\n",
    "plt.figure(figsize=(6,6))\n",
    "plt.pie(values, labels=labels, autopct='%1.1f%%')\n",
    "plt.legend()\n",
    "plt.title('Proportions of the medalists for each sex')\n",
    "plt.show()"
   ]
  },
  {
   "cell_type": "markdown",
   "id": "b32f7248",
   "metadata": {},
   "source": [
    "**Follow the number of participating players for each `sex`**"
   ]
  },
  {
   "cell_type": "code",
   "execution_count": 23,
   "id": "dc6b49b6",
   "metadata": {
    "scrolled": false
   },
   "outputs": [
    {
     "data": {
      "image/png": "[encoded data removed]",
      "text/plain": [
       "<Figure size 1152x360 with 1 Axes>"
      ]
     },
     "metadata": {
      "needs_background": "light"
     },
     "output_type": "display_data"
    },
    {
     "name": "stdout",
     "output_type": "stream",
     "text": [
      "The highest number of participating for both sex is 16413 in 1992\n",
      "The highest number of participation for men is 11235 in 1992 and for females is 6228 in 2016\n",
      "As we see the number of participating it continued to increase until it reached the highest number of participating in 1992 and then the number of participating began to decrease and increase until 2016.\n"
     ]
    }
   ],
   "source": [
    "def sort_dict(dic):\n",
    "    keys = []\n",
    "    values = []\n",
    "    for key in sorted(dic.keys()):\n",
    "        keys.append(key)\n",
    "        values.append(dic[key])\n",
    "    # return list of two lists\n",
    "    return [keys, values]\n",
    "\n",
    "all_ = sort_dict(athlete_events['Year'].value_counts())\n",
    "males = sort_dict(athlete_events[athlete_events['Sex'] == 'M']['Year'].value_counts().to_dict())\n",
    "females = sort_dict(athlete_events[athlete_events['Sex'] == 'F']['Year'].value_counts().to_dict())\n",
    "\n",
    "# Line plot\n",
    "plt.figure(figsize=(16,5))\n",
    "plt.plot(all_[0], all_[1])\n",
    "plt.plot(males[0], males[1])\n",
    "plt.plot(females[0], females[1])\n",
    "plt.legend(['All', 'Male', 'Female'])\n",
    "plt.show()\n",
    "\n",
    "# Comment on the graph\n",
    "highest = athlete_events['Year'].value_counts().iloc[0]\n",
    "high_year = list(athlete_events['Year'].value_counts().to_dict())[0]\n",
    "highest_m = athlete_events[athlete_events['Sex'] == 'M']['Year'].value_counts().iloc[0]\n",
    "high_year_m = list(athlete_events[athlete_events['Sex'] == 'M']['Year'].value_counts().to_dict())[0]\n",
    "highest_f = athlete_events[athlete_events['Sex'] == 'F']['Year'].value_counts().iloc[0]\n",
    "high_year_f = list(athlete_events[athlete_events['Sex'] == 'F']['Year'].value_counts().to_dict())[0]\n",
    "\n",
    "print(f\"The highest number of participating for both sex is {highest} in {high_year}\")\n",
    "print(f\"The highest number of participation for men is {highest_m} in {high_year_m} and for females is {highest_f} in {high_year_f}\")\n",
    "print(\"As we see the number of participating it continued to increase until it reached the highest number of participating in 1992 and then the number of participating began to decrease and increase until 2016.\")"
   ]
  },
  {
   "cell_type": "markdown",
   "id": "c59dabcb",
   "metadata": {},
   "source": [
    "**Most Cities that organized the game**"
   ]
  },
  {
   "cell_type": "code",
   "execution_count": 24,
   "id": "4a4d0319",
   "metadata": {
    "scrolled": true
   },
   "outputs": [
    {
     "data": {
      "text/plain": [
       "(35, 15)"
      ]
     },
     "execution_count": 24,
     "metadata": {},
     "output_type": "execute_result"
    }
   ],
   "source": [
    "athlete_events_uinque_year = athlete_events[~athlete_events['Year'].duplicated()].sort_values('Year')\n",
    "athlete_events_uinque_year.shape"
   ]
  },
  {
   "cell_type": "code",
   "execution_count": 25,
   "id": "3277fe5e",
   "metadata": {},
   "outputs": [
    {
     "data": {
      "text/html": [
       "<div>\n",
       "<style scoped>\n",
       "    .dataframe tbody tr th:only-of-type {\n",
       "        vertical-align: middle;\n",
       "    }\n",
       "\n",
       "    .dataframe tbody tr th {\n",
       "        vertical-align: top;\n",
       "    }\n",
       "\n",
       "    .dataframe thead th {\n",
       "        text-align: right;\n",
       "    }\n",
       "</style>\n",
       "<table border=\"1\" class=\"dataframe\">\n",
       "  <thead>\n",
       "    <tr style=\"text-align: right;\">\n",
       "      <th></th>\n",
       "      <th>Name</th>\n",
       "      <th>Sex</th>\n",
       "      <th>Age</th>\n",
       "      <th>Height</th>\n",
       "      <th>Weight</th>\n",
       "      <th>Team</th>\n",
       "      <th>NOC</th>\n",
       "      <th>Games</th>\n",
       "      <th>Year</th>\n",
       "      <th>Season</th>\n",
       "      <th>City</th>\n",
       "      <th>Sport</th>\n",
       "      <th>Event</th>\n",
       "      <th>Medal</th>\n",
       "      <th>Age Group</th>\n",
       "    </tr>\n",
       "  </thead>\n",
       "  <tbody>\n",
       "    <tr>\n",
       "      <th>3078</th>\n",
       "      <td>Aristidis Akratopoulos</td>\n",
       "      <td>M</td>\n",
       "      <td>23</td>\n",
       "      <td>179</td>\n",
       "      <td>71</td>\n",
       "      <td>Greece</td>\n",
       "      <td>GRE</td>\n",
       "      <td>1896 Summer</td>\n",
       "      <td>1896</td>\n",
       "      <td>Summer</td>\n",
       "      <td>Athina</td>\n",
       "      <td>Tennis</td>\n",
       "      <td>Tennis Men's Singles</td>\n",
       "      <td>No</td>\n",
       "      <td>Young Adult</td>\n",
       "    </tr>\n",
       "    <tr>\n",
       "      <th>3</th>\n",
       "      <td>Edgar Lindenau Aabye</td>\n",
       "      <td>M</td>\n",
       "      <td>34</td>\n",
       "      <td>188</td>\n",
       "      <td>95</td>\n",
       "      <td>Denmark</td>\n",
       "      <td>DEN</td>\n",
       "      <td>1900 Summer</td>\n",
       "      <td>1900</td>\n",
       "      <td>Summer</td>\n",
       "      <td>Paris</td>\n",
       "      <td>Tug-Of-War</td>\n",
       "      <td>Tug-Of-War Men's Tug-Of-War</td>\n",
       "      <td>Gold</td>\n",
       "      <td>Middle-aged Adult</td>\n",
       "    </tr>\n",
       "    <tr>\n",
       "      <th>711</th>\n",
       "      <td>Louis Grenville \"Lou\" Abell</td>\n",
       "      <td>M</td>\n",
       "      <td>19</td>\n",
       "      <td>184</td>\n",
       "      <td>80</td>\n",
       "      <td>USA</td>\n",
       "      <td>USA</td>\n",
       "      <td>1904 Summer</td>\n",
       "      <td>1904</td>\n",
       "      <td>Summer</td>\n",
       "      <td>St. Louis</td>\n",
       "      <td>Rowing</td>\n",
       "      <td>Rowing Men's Coxed Eights</td>\n",
       "      <td>Gold</td>\n",
       "      <td>Young Adult</td>\n",
       "    </tr>\n",
       "    <tr>\n",
       "      <th>268</th>\n",
       "      <td>George \"Ioannis\" Abbot</td>\n",
       "      <td>M</td>\n",
       "      <td>23</td>\n",
       "      <td>175</td>\n",
       "      <td>70</td>\n",
       "      <td>Greece</td>\n",
       "      <td>GRE</td>\n",
       "      <td>1906 Summer</td>\n",
       "      <td>1906</td>\n",
       "      <td>Summer</td>\n",
       "      <td>Athina</td>\n",
       "      <td>Football</td>\n",
       "      <td>Football Men's Football</td>\n",
       "      <td>Bronze</td>\n",
       "      <td>Young Adult</td>\n",
       "    </tr>\n",
       "    <tr>\n",
       "      <th>1149</th>\n",
       "      <td>Alfredo Accorsi</td>\n",
       "      <td>M</td>\n",
       "      <td>27</td>\n",
       "      <td>163</td>\n",
       "      <td>57</td>\n",
       "      <td>Italy</td>\n",
       "      <td>ITA</td>\n",
       "      <td>1908 Summer</td>\n",
       "      <td>1908</td>\n",
       "      <td>Summer</td>\n",
       "      <td>London</td>\n",
       "      <td>Gymnastics</td>\n",
       "      <td>Gymnastics Men's Team All-Around</td>\n",
       "      <td>No</td>\n",
       "      <td>Young Adult</td>\n",
       "    </tr>\n",
       "  </tbody>\n",
       "</table>\n",
       "</div>"
      ],
      "text/plain": [
       "                             Name Sex  Age  Height  Weight     Team  NOC  \\\n",
       "3078       Aristidis Akratopoulos   M   23     179      71   Greece  GRE   \n",
       "3            Edgar Lindenau Aabye   M   34     188      95  Denmark  DEN   \n",
       "711   Louis Grenville \"Lou\" Abell   M   19     184      80      USA  USA   \n",
       "268        George \"Ioannis\" Abbot   M   23     175      70   Greece  GRE   \n",
       "1149              Alfredo Accorsi   M   27     163      57    Italy  ITA   \n",
       "\n",
       "            Games  Year  Season       City       Sport  \\\n",
       "3078  1896 Summer  1896  Summer     Athina      Tennis   \n",
       "3     1900 Summer  1900  Summer      Paris  Tug-Of-War   \n",
       "711   1904 Summer  1904  Summer  St. Louis      Rowing   \n",
       "268   1906 Summer  1906  Summer     Athina    Football   \n",
       "1149  1908 Summer  1908  Summer     London  Gymnastics   \n",
       "\n",
       "                                 Event   Medal          Age Group  \n",
       "3078              Tennis Men's Singles      No        Young Adult  \n",
       "3          Tug-Of-War Men's Tug-Of-War    Gold  Middle-aged Adult  \n",
       "711          Rowing Men's Coxed Eights    Gold        Young Adult  \n",
       "268            Football Men's Football  Bronze        Young Adult  \n",
       "1149  Gymnastics Men's Team All-Around      No        Young Adult  "
      ]
     },
     "execution_count": 25,
     "metadata": {},
     "output_type": "execute_result"
    }
   ],
   "source": [
    "athlete_events_uinque_year.head()"
   ]
  },
  {
   "cell_type": "code",
   "execution_count": 26,
   "id": "c85b6625",
   "metadata": {
    "scrolled": true
   },
   "outputs": [
    {
     "data": {
      "text/plain": [
       "London               3\n",
       "Athina               3\n",
       "Paris                2\n",
       "Antwerpen            1\n",
       "Cortina d'Ampezzo    1\n",
       "Innsbruck            1\n",
       "Munich               1\n",
       "St. Louis            1\n",
       "Salt Lake City       1\n",
       "Beijing              1\n",
       "Vancouver            1\n",
       "Sarajevo             1\n",
       "Mexico City          1\n",
       "Rio de Janeiro       1\n",
       "Calgary              1\n",
       "Sochi                1\n",
       "Montreal             1\n",
       "Helsinki             1\n",
       "Sydney               1\n",
       "Los Angeles          1\n",
       "Lillehammer          1\n",
       "Stockholm            1\n",
       "Berlin               1\n",
       "Squaw Valley         1\n",
       "Nagano               1\n",
       "Torino               1\n",
       "Lake Placid          1\n",
       "Atlanta              1\n",
       "Amsterdam            1\n",
       "Barcelona            1\n",
       "Name: City, dtype: int64"
      ]
     },
     "execution_count": 26,
     "metadata": {},
     "output_type": "execute_result"
    }
   ],
   "source": [
    "athlete_events_uinque_year['City'].value_counts()"
   ]
  },
  {
   "cell_type": "markdown",
   "id": "49d120fe",
   "metadata": {},
   "source": [
    "London and Athina organaized the game three times while Paris organized the game twice and the other countries once."
   ]
  },
  {
   "cell_type": "markdown",
   "id": "cfb4e745",
   "metadata": {},
   "source": [
    "**Most ten players who participated the games**"
   ]
  },
  {
   "cell_type": "code",
   "execution_count": 27,
   "id": "7626afd3",
   "metadata": {
    "scrolled": false
   },
   "outputs": [
    {
     "data": {
      "text/plain": [
       "Heikki Ilmari Savolainen       39\n",
       "Joseph \"Josy\" Stoffel          38\n",
       "Ioannis Theofilakis            36\n",
       "Takashi Ono                    33\n",
       "Alexandros Theofilakis         32\n",
       "Andreas Wecker                 32\n",
       "Alfred August \"Al\" Jochim      31\n",
       "Johann \"Hans\" Sauter           31\n",
       "Michel Mathiot                 31\n",
       "Karl Tore William Thoresson    30\n",
       "Name: Name, dtype: int64"
      ]
     },
     "execution_count": 27,
     "metadata": {},
     "output_type": "execute_result"
    }
   ],
   "source": [
    "athlete_events['Name'].value_counts()[:10]"
   ]
  },
  {
   "cell_type": "markdown",
   "id": "6969e890",
   "metadata": {},
   "source": [
    "**Top ten medalist players**"
   ]
  },
  {
   "cell_type": "code",
   "execution_count": 28,
   "id": "b9deef5b",
   "metadata": {},
   "outputs": [
    {
     "data": {
      "text/plain": [
       "Michael Fred Phelps, II                            28\n",
       "Larysa Semenivna Latynina (Diriy-)                 18\n",
       "Nikolay Yefimovich Andrianov                       15\n",
       "Borys Anfiyanovych Shakhlin                        13\n",
       "Edoardo Mangiarotti                                13\n",
       "Takashi Ono                                        13\n",
       "Ole Einar Bjrndalen                                13\n",
       "Jennifer Elisabeth \"Jenny\" Thompson (-Cumpelik)    12\n",
       "Ryan Steven Lochte                                 12\n",
       "Paavo Johannes Nurmi                               12\n",
       "Name: Name, dtype: int64"
      ]
     },
     "execution_count": 28,
     "metadata": {},
     "output_type": "execute_result"
    }
   ],
   "source": [
    "athlete_events[athlete_events['Medal'] != 'No']['Name'].value_counts()[:10]"
   ]
  },
  {
   "cell_type": "markdown",
   "id": "eb0ccd42",
   "metadata": {},
   "source": [
    "**Top ten gold medalist players**"
   ]
  },
  {
   "cell_type": "code",
   "execution_count": 29,
   "id": "91f9034a",
   "metadata": {},
   "outputs": [
    {
     "data": {
      "text/plain": [
       "Michael Fred Phelps, II                            23\n",
       "Raymond Clarence \"Ray\" Ewry                        10\n",
       "Mark Andrew Spitz                                   9\n",
       "Frederick Carlton \"Carl\" Lewis                      9\n",
       "Larysa Semenivna Latynina (Diriy-)                  9\n",
       "Paavo Johannes Nurmi                                9\n",
       "Matthew Nicholas \"Matt\" Biondi                      8\n",
       "Jennifer Elisabeth \"Jenny\" Thompson (-Cumpelik)     8\n",
       "Ole Einar Bjrndalen                                 8\n",
       "Usain St. Leo Bolt                                  8\n",
       "Name: Name, dtype: int64"
      ]
     },
     "execution_count": 29,
     "metadata": {},
     "output_type": "execute_result"
    }
   ],
   "source": [
    "athlete_events[athlete_events['Medal'] == 'Gold']['Name'].value_counts()[:10]"
   ]
  },
  {
   "cell_type": "markdown",
   "id": "14fd15e9",
   "metadata": {},
   "source": [
    "**Top ten silver medalist players**"
   ]
  },
  {
   "cell_type": "code",
   "execution_count": 30,
   "id": "f806be28",
   "metadata": {},
   "outputs": [
    {
     "data": {
      "text/plain": [
       "Mikhail Yakovlevich Voronin        6\n",
       "Shirley Frances Babashoff          6\n",
       "Aleksandr Vladimirovich Popov      6\n",
       "Yang Yang                          6\n",
       "Aleksandr Nikolayevich Dityatin    6\n",
       "Gustavo Marzi                      5\n",
       "Andrea Ehrig-Schne-Mitscherlich    5\n",
       "Bogdan Musiol                      5\n",
       "Viktor Nikitovich Lisitsky         5\n",
       "Leisel Marie Jones                 5\n",
       "Name: Name, dtype: int64"
      ]
     },
     "execution_count": 30,
     "metadata": {},
     "output_type": "execute_result"
    }
   ],
   "source": [
    "athlete_events[athlete_events['Medal'] == 'Silver']['Name'].value_counts()[:10]"
   ]
  },
  {
   "cell_type": "markdown",
   "id": "ab572c73",
   "metadata": {},
   "source": [
    "**Top ten bronze medalist players**"
   ]
  },
  {
   "cell_type": "code",
   "execution_count": 31,
   "id": "3eacdf28",
   "metadata": {},
   "outputs": [
    {
     "data": {
      "text/plain": [
       "Heikki Ilmari Savolainen                 6\n",
       "Aleksey Yuryevich Nemov                  6\n",
       "Franziska van Almsick                    6\n",
       "Harri Tapani Kirvesniemi                 6\n",
       "Merlene Joyce Ottey-Page                 6\n",
       "Stefania Belmondo                        5\n",
       "Antje Buschschulte (-Meeuw)              5\n",
       "Daniel Jean Claude Ernest Revenu         5\n",
       "Philip Aron \"Phil\" Edwards               5\n",
       "Adrianus Egbert Willem \"Arie\" de Jong    5\n",
       "Name: Name, dtype: int64"
      ]
     },
     "execution_count": 31,
     "metadata": {},
     "output_type": "execute_result"
    }
   ],
   "source": [
    "athlete_events[athlete_events['Medal'] == 'Bronze']['Name'].value_counts()[:10]"
   ]
  },
  {
   "cell_type": "markdown",
   "id": "1fcd6dd3",
   "metadata": {},
   "source": [
    "**Top ten countries with medals**"
   ]
  },
  {
   "cell_type": "code",
   "execution_count": 32,
   "id": "a85d9cfa",
   "metadata": {},
   "outputs": [
    {
     "data": {
      "text/plain": [
       "USA          5637\n",
       "Russia       3947\n",
       "Germany      3756\n",
       "UK           2067\n",
       "France       1767\n",
       "Italy        1637\n",
       "Sweden       1536\n",
       "Canada       1352\n",
       "Australia    1349\n",
       "Hungary      1135\n",
       "Name: Team, dtype: int64"
      ]
     },
     "execution_count": 32,
     "metadata": {},
     "output_type": "execute_result"
    }
   ],
   "source": [
    "athlete_events[athlete_events['Medal'] != 'No']['Team'].value_counts()[:10]"
   ]
  },
  {
   "cell_type": "markdown",
   "id": "cf647f04",
   "metadata": {},
   "source": [
    "**Most famous `Sport`**"
   ]
  },
  {
   "cell_type": "code",
   "execution_count": 33,
   "id": "72d7fb42",
   "metadata": {},
   "outputs": [
    {
     "data": {
      "text/plain": [
       "Athletics               38630\n",
       "Gymnastics              26707\n",
       "Swimming                23199\n",
       "Shooting                11448\n",
       "Cycling                 10827\n",
       "Fencing                 10735\n",
       "Rowing                  10595\n",
       "Cross Country Skiing     9133\n",
       "Alpine Skiing            8829\n",
       "Wrestling                7154\n",
       "Football                 6745\n",
       "Sailing                  6549\n",
       "Equestrianism            6343\n",
       "Canoeing                 6171\n",
       "Boxing                   6047\n",
       "Speed Skating            5613\n",
       "Ice Hockey               5516\n",
       "Hockey                   5417\n",
       "Biathlon                 4893\n",
       "Basketball               4536\n",
       "Name: Sport, dtype: int64"
      ]
     },
     "execution_count": 33,
     "metadata": {},
     "output_type": "execute_result"
    }
   ],
   "source": [
    "athlete_events['Sport'].value_counts()[:20]"
   ]
  },
  {
   "cell_type": "markdown",
   "id": "be7a0f0c",
   "metadata": {},
   "source": [
    "**Most famous `Event`**"
   ]
  },
  {
   "cell_type": "code",
   "execution_count": 34,
   "id": "9e857ee6",
   "metadata": {},
   "outputs": [
    {
     "data": {
      "text/plain": [
       "Football Men's Football                   5733\n",
       "Ice Hockey Men's Ice Hockey               4762\n",
       "Hockey Men's Hockey                       3958\n",
       "Water Polo Men's Water Polo               3358\n",
       "Basketball Men's Basketball               3280\n",
       "Cycling Men's Road Race, Individual       2947\n",
       "Gymnastics Men's Individual All-Around    2500\n",
       "Rowing Men's Coxed Eights                 2423\n",
       "Gymnastics Men's Team All-Around          2411\n",
       "Handball Men's Handball                   2264\n",
       "Athletics Men's Marathon                  2094\n",
       "Gymnastics Men's Parallel Bars            2049\n",
       "Gymnastics Men's Horizontal Bar           2041\n",
       "Gymnastics Men's Pommelled Horse          2031\n",
       "Gymnastics Men's Rings                    2020\n",
       "Athletics Men's 100 metres                1936\n",
       "Athletics Men's 4 x 100 metres Relay      1910\n",
       "Gymnastics Men's Floor Exercise           1880\n",
       "Gymnastics Men's Horse Vault              1868\n",
       "Volleyball Men's Volleyball               1861\n",
       "Name: Event, dtype: int64"
      ]
     },
     "execution_count": 34,
     "metadata": {},
     "output_type": "execute_result"
    }
   ],
   "source": [
    "athlete_events['Event'].value_counts()[:20]"
   ]
  },
  {
   "cell_type": "markdown",
   "id": "34afecbc",
   "metadata": {},
   "source": [
    "### Exploring Information about Egypt "
   ]
  },
  {
   "cell_type": "code",
   "execution_count": 35,
   "id": "97d32087",
   "metadata": {},
   "outputs": [
    {
     "data": {
      "text/plain": [
       "(1620, 15)"
      ]
     },
     "execution_count": 35,
     "metadata": {},
     "output_type": "execute_result"
    }
   ],
   "source": [
    "egypt = athlete_events[athlete_events['NOC'] == 'EGY']\n",
    "egypt.shape"
   ]
  },
  {
   "cell_type": "code",
   "execution_count": 36,
   "id": "7b34c522",
   "metadata": {},
   "outputs": [
    {
     "data": {
      "text/html": [
       "<div>\n",
       "<style scoped>\n",
       "    .dataframe tbody tr th:only-of-type {\n",
       "        vertical-align: middle;\n",
       "    }\n",
       "\n",
       "    .dataframe tbody tr th {\n",
       "        vertical-align: top;\n",
       "    }\n",
       "\n",
       "    .dataframe thead th {\n",
       "        text-align: right;\n",
       "    }\n",
       "</style>\n",
       "<table border=\"1\" class=\"dataframe\">\n",
       "  <thead>\n",
       "    <tr style=\"text-align: right;\">\n",
       "      <th></th>\n",
       "      <th>Name</th>\n",
       "      <th>Sex</th>\n",
       "      <th>Age</th>\n",
       "      <th>Height</th>\n",
       "      <th>Weight</th>\n",
       "      <th>Team</th>\n",
       "      <th>NOC</th>\n",
       "      <th>Games</th>\n",
       "      <th>Year</th>\n",
       "      <th>Season</th>\n",
       "      <th>City</th>\n",
       "      <th>Sport</th>\n",
       "      <th>Event</th>\n",
       "      <th>Medal</th>\n",
       "      <th>Age Group</th>\n",
       "    </tr>\n",
       "  </thead>\n",
       "  <tbody>\n",
       "    <tr>\n",
       "      <th>146</th>\n",
       "      <td>Talaat Abada</td>\n",
       "      <td>M</td>\n",
       "      <td>24</td>\n",
       "      <td>172</td>\n",
       "      <td>58</td>\n",
       "      <td>Egypt</td>\n",
       "      <td>EGY</td>\n",
       "      <td>2000 Summer</td>\n",
       "      <td>2000</td>\n",
       "      <td>Summer</td>\n",
       "      <td>Sydney</td>\n",
       "      <td>Taekwondo</td>\n",
       "      <td>Taekwondo Men's Flyweight</td>\n",
       "      <td>No</td>\n",
       "      <td>Young Adult</td>\n",
       "    </tr>\n",
       "    <tr>\n",
       "      <th>212</th>\n",
       "      <td>Sayed Fahmy Abaza</td>\n",
       "      <td>M</td>\n",
       "      <td>23</td>\n",
       "      <td>175</td>\n",
       "      <td>70</td>\n",
       "      <td>Egypt</td>\n",
       "      <td>EGY</td>\n",
       "      <td>1920 Summer</td>\n",
       "      <td>1920</td>\n",
       "      <td>Summer</td>\n",
       "      <td>Antwerpen</td>\n",
       "      <td>Football</td>\n",
       "      <td>Football Men's Football</td>\n",
       "      <td>No</td>\n",
       "      <td>Young Adult</td>\n",
       "    </tr>\n",
       "    <tr>\n",
       "      <th>213</th>\n",
       "      <td>Sayed Fahmy Abaza</td>\n",
       "      <td>M</td>\n",
       "      <td>23</td>\n",
       "      <td>175</td>\n",
       "      <td>70</td>\n",
       "      <td>Egypt</td>\n",
       "      <td>EGY</td>\n",
       "      <td>1928 Summer</td>\n",
       "      <td>1928</td>\n",
       "      <td>Summer</td>\n",
       "      <td>Amsterdam</td>\n",
       "      <td>Football</td>\n",
       "      <td>Football Men's Football</td>\n",
       "      <td>No</td>\n",
       "      <td>Young Adult</td>\n",
       "    </tr>\n",
       "    <tr>\n",
       "      <th>239</th>\n",
       "      <td>Hosni Mohamed Abbas</td>\n",
       "      <td>M</td>\n",
       "      <td>32</td>\n",
       "      <td>169</td>\n",
       "      <td>60</td>\n",
       "      <td>Egypt</td>\n",
       "      <td>EGY</td>\n",
       "      <td>1964 Summer</td>\n",
       "      <td>1964</td>\n",
       "      <td>Summer</td>\n",
       "      <td>Tokyo</td>\n",
       "      <td>Weightlifting</td>\n",
       "      <td>Weightlifting Men's Featherweight</td>\n",
       "      <td>No</td>\n",
       "      <td>Middle-aged Adult</td>\n",
       "    </tr>\n",
       "    <tr>\n",
       "      <th>242</th>\n",
       "      <td>Mahmoud Abbas</td>\n",
       "      <td>M</td>\n",
       "      <td>22</td>\n",
       "      <td>165</td>\n",
       "      <td>65</td>\n",
       "      <td>Egypt</td>\n",
       "      <td>EGY</td>\n",
       "      <td>2000 Summer</td>\n",
       "      <td>2000</td>\n",
       "      <td>Summer</td>\n",
       "      <td>Sydney</td>\n",
       "      <td>Cycling</td>\n",
       "      <td>Cycling Men's Road Race, Individual</td>\n",
       "      <td>No</td>\n",
       "      <td>Young Adult</td>\n",
       "    </tr>\n",
       "  </tbody>\n",
       "</table>\n",
       "</div>"
      ],
      "text/plain": [
       "                    Name Sex  Age  Height  Weight   Team  NOC        Games  \\\n",
       "146         Talaat Abada   M   24     172      58  Egypt  EGY  2000 Summer   \n",
       "212    Sayed Fahmy Abaza   M   23     175      70  Egypt  EGY  1920 Summer   \n",
       "213    Sayed Fahmy Abaza   M   23     175      70  Egypt  EGY  1928 Summer   \n",
       "239  Hosni Mohamed Abbas   M   32     169      60  Egypt  EGY  1964 Summer   \n",
       "242        Mahmoud Abbas   M   22     165      65  Egypt  EGY  2000 Summer   \n",
       "\n",
       "     Year  Season       City          Sport  \\\n",
       "146  2000  Summer     Sydney      Taekwondo   \n",
       "212  1920  Summer  Antwerpen       Football   \n",
       "213  1928  Summer  Amsterdam       Football   \n",
       "239  1964  Summer      Tokyo  Weightlifting   \n",
       "242  2000  Summer     Sydney        Cycling   \n",
       "\n",
       "                                   Event Medal          Age Group  \n",
       "146            Taekwondo Men's Flyweight    No        Young Adult  \n",
       "212              Football Men's Football    No        Young Adult  \n",
       "213              Football Men's Football    No        Young Adult  \n",
       "239    Weightlifting Men's Featherweight    No  Middle-aged Adult  \n",
       "242  Cycling Men's Road Race, Individual    No        Young Adult  "
      ]
     },
     "execution_count": 36,
     "metadata": {},
     "output_type": "execute_result"
    }
   ],
   "source": [
    "egypt.head()"
   ]
  },
  {
   "cell_type": "code",
   "execution_count": 37,
   "id": "bfbec00c",
   "metadata": {},
   "outputs": [
    {
     "data": {
      "text/plain": [
       "31"
      ]
     },
     "execution_count": 37,
     "metadata": {},
     "output_type": "execute_result"
    }
   ],
   "source": [
    "len(egypt['Sport'].unique())"
   ]
  },
  {
   "cell_type": "code",
   "execution_count": 38,
   "id": "12be2293",
   "metadata": {},
   "outputs": [
    {
     "data": {
      "text/plain": [
       "Ibrahim Hassanien Shams                   2\n",
       "Karam Mohamed Gaber Ibrahim               2\n",
       "Farid Simaika                             2\n",
       "Mohamed Ahmed \"Anwar\" Mousbah             1\n",
       "Mahmoud S. Fayad                          1\n",
       "El-Sayed Mohamed Nosseir                  1\n",
       "Attia Mohammed Hamouda                    1\n",
       "Hesham Hasan Misbah                       1\n",
       "Ibrahim Moustafa                          1\n",
       "Tamer Salah Ali Abdu Bayoumi              1\n",
       "Mohamed Aly Reda                          1\n",
       "Ibrahim Orabi                             1\n",
       "Alaaeldin Ahmad El-Sayyid Abouelkassem    1\n",
       "Hedaya Ahmad Malak Wahba                  1\n",
       "Abdel Aal Ahmed Rashid                    1\n",
       "Saleh Mohamed Soliman                     1\n",
       "Ali Mahmoud Hassan                        1\n",
       "Mohamed Ihab Youssef Ahmed Mahmoud        1\n",
       "Ahmed Ismail El Shamy                     1\n",
       "Sara Ahmed Samir                          1\n",
       "Mohamed Ali Ahmad Rashwan                 1\n",
       "Wasif Ibrahim                             1\n",
       "Mohamed El-Sayed                          1\n",
       "Khadr El-Sayed El-Touni                   1\n",
       "Name: Name, dtype: int64"
      ]
     },
     "execution_count": 38,
     "metadata": {},
     "output_type": "execute_result"
    }
   ],
   "source": [
    "egypt[egypt['Medal'] != 'No' ]['Name'].value_counts()"
   ]
  },
  {
   "cell_type": "code",
   "execution_count": 39,
   "id": "ff820346",
   "metadata": {},
   "outputs": [
    {
     "data": {
      "text/plain": [
       "Mahmoud S. Fayad                 1\n",
       "Mohamed Ahmed \"Anwar\" Mousbah    1\n",
       "Karam Mohamed Gaber Ibrahim      1\n",
       "El-Sayed Mohamed Nosseir         1\n",
       "Ibrahim Moustafa                 1\n",
       "Ibrahim Hassanien Shams          1\n",
       "Khadr El-Sayed El-Touni          1\n",
       "Name: Name, dtype: int64"
      ]
     },
     "execution_count": 39,
     "metadata": {},
     "output_type": "execute_result"
    }
   ],
   "source": [
    "egypt[egypt['Medal'] == 'Gold' ]['Name'].value_counts()"
   ]
  },
  {
   "cell_type": "code",
   "execution_count": 40,
   "id": "62e7fb29",
   "metadata": {},
   "outputs": [
    {
     "data": {
      "text/plain": [
       "Alaaeldin Ahmad El-Sayyid Abouelkassem    1\n",
       "Karam Mohamed Gaber Ibrahim               1\n",
       "Mohamed Aly Reda                          1\n",
       "Farid Simaika                             1\n",
       "Mohamed Ali Ahmad Rashwan                 1\n",
       "Ali Mahmoud Hassan                        1\n",
       "Saleh Mohamed Soliman                     1\n",
       "Attia Mohammed Hamouda                    1\n",
       "Name: Name, dtype: int64"
      ]
     },
     "execution_count": 40,
     "metadata": {},
     "output_type": "execute_result"
    }
   ],
   "source": [
    "egypt[egypt['Medal'] == 'Silver' ]['Name'].value_counts()"
   ]
  },
  {
   "cell_type": "code",
   "execution_count": 41,
   "id": "a567d116",
   "metadata": {},
   "outputs": [
    {
     "data": {
      "text/plain": [
       "Hedaya Ahmad Malak Wahba              1\n",
       "Mohamed El-Sayed                      1\n",
       "Wasif Ibrahim                         1\n",
       "Ibrahim Hassanien Shams               1\n",
       "Ibrahim Orabi                         1\n",
       "Sara Ahmed Samir                      1\n",
       "Ahmed Ismail El Shamy                 1\n",
       "Mohamed Ihab Youssef Ahmed Mahmoud    1\n",
       "Hesham Hasan Misbah                   1\n",
       "Tamer Salah Ali Abdu Bayoumi          1\n",
       "Farid Simaika                         1\n",
       "Abdel Aal Ahmed Rashid                1\n",
       "Name: Name, dtype: int64"
      ]
     },
     "execution_count": 41,
     "metadata": {},
     "output_type": "execute_result"
    }
   ],
   "source": [
    "egypt[egypt['Medal'] == 'Bronze' ]['Name'].value_counts()"
   ]
  }
 ],
 "metadata": {
  "kernelspec": {
   "display_name": "Python 3",
   "language": "python",
   "name": "python3"
  },
  "language_info": {
   "codemirror_mode": {
    "name": "ipython",
    "version": 3
   },
   "file_extension": ".py",
   "mimetype": "text/x-python",
   "name": "python",
   "nbconvert_exporter": "python",
   "pygments_lexer": "ipython3",
   "version": "3.8.8"
  }
 },
 "nbformat": 4,
 "nbformat_minor": 5
}

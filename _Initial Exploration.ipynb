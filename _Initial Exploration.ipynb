{
 "cells": [
  {
   "cell_type": "code",
   "execution_count": 1,
   "id": "324a2e0a",
   "metadata": {},
   "outputs": [],
   "source": [
    "import pandas as pd\n",
    "import matplotlib.pyplot as plt"
   ]
  },
  {
   "cell_type": "code",
   "execution_count": 2,
   "id": "9f4fa7c1",
   "metadata": {},
   "outputs": [],
   "source": [
    "athlete_events = pd.read_csv('athlete_events_cleaned.csv')"
   ]
  },
  {
   "cell_type": "code",
   "execution_count": 3,
   "id": "83862896",
   "metadata": {},
   "outputs": [
    {
     "data": {
      "text/html": [
       "<div>\n",
       "<style scoped>\n",
       "    .dataframe tbody tr th:only-of-type {\n",
       "        vertical-align: middle;\n",
       "    }\n",
       "\n",
       "    .dataframe tbody tr th {\n",
       "        vertical-align: top;\n",
       "    }\n",
       "\n",
       "    .dataframe thead th {\n",
       "        text-align: right;\n",
       "    }\n",
       "</style>\n",
       "<table border=\"1\" class=\"dataframe\">\n",
       "  <thead>\n",
       "    <tr style=\"text-align: right;\">\n",
       "      <th></th>\n",
       "      <th>Name</th>\n",
       "      <th>Sex</th>\n",
       "      <th>Age</th>\n",
       "      <th>Height</th>\n",
       "      <th>Weight</th>\n",
       "      <th>Team</th>\n",
       "      <th>NOC</th>\n",
       "      <th>Year</th>\n",
       "      <th>Season</th>\n",
       "      <th>City</th>\n",
       "      <th>Sport</th>\n",
       "      <th>Event</th>\n",
       "      <th>Medal</th>\n",
       "    </tr>\n",
       "  </thead>\n",
       "  <tbody>\n",
       "    <tr>\n",
       "      <th>0</th>\n",
       "      <td>A Dijiang</td>\n",
       "      <td>M</td>\n",
       "      <td>24</td>\n",
       "      <td>180</td>\n",
       "      <td>80</td>\n",
       "      <td>China</td>\n",
       "      <td>CHN</td>\n",
       "      <td>1992</td>\n",
       "      <td>Summer</td>\n",
       "      <td>Barcelona</td>\n",
       "      <td>Basketball</td>\n",
       "      <td>Basketball Men's Basketball</td>\n",
       "      <td>No</td>\n",
       "    </tr>\n",
       "    <tr>\n",
       "      <th>1</th>\n",
       "      <td>A Lamusi</td>\n",
       "      <td>M</td>\n",
       "      <td>23</td>\n",
       "      <td>170</td>\n",
       "      <td>60</td>\n",
       "      <td>China</td>\n",
       "      <td>CHN</td>\n",
       "      <td>2012</td>\n",
       "      <td>Summer</td>\n",
       "      <td>London</td>\n",
       "      <td>Judo</td>\n",
       "      <td>Judo Men's Extra-Lightweight</td>\n",
       "      <td>No</td>\n",
       "    </tr>\n",
       "    <tr>\n",
       "      <th>2</th>\n",
       "      <td>Gunnar Nielsen Aaby</td>\n",
       "      <td>M</td>\n",
       "      <td>24</td>\n",
       "      <td>175</td>\n",
       "      <td>70</td>\n",
       "      <td>Denmark</td>\n",
       "      <td>DEN</td>\n",
       "      <td>1920</td>\n",
       "      <td>Summer</td>\n",
       "      <td>Antwerpen</td>\n",
       "      <td>Football</td>\n",
       "      <td>Football Men's Football</td>\n",
       "      <td>No</td>\n",
       "    </tr>\n",
       "    <tr>\n",
       "      <th>3</th>\n",
       "      <td>Edgar Lindenau Aabye</td>\n",
       "      <td>M</td>\n",
       "      <td>34</td>\n",
       "      <td>188</td>\n",
       "      <td>95</td>\n",
       "      <td>Denmark/Sweden</td>\n",
       "      <td>DEN</td>\n",
       "      <td>1900</td>\n",
       "      <td>Summer</td>\n",
       "      <td>Paris</td>\n",
       "      <td>Tug-Of-War</td>\n",
       "      <td>Tug-Of-War Men's Tug-Of-War</td>\n",
       "      <td>Gold</td>\n",
       "    </tr>\n",
       "    <tr>\n",
       "      <th>4</th>\n",
       "      <td>Christine Jacoba Aaftink</td>\n",
       "      <td>F</td>\n",
       "      <td>21</td>\n",
       "      <td>185</td>\n",
       "      <td>82</td>\n",
       "      <td>Netherlands</td>\n",
       "      <td>NED</td>\n",
       "      <td>1988</td>\n",
       "      <td>Winter</td>\n",
       "      <td>Calgary</td>\n",
       "      <td>Speed Skating</td>\n",
       "      <td>Speed Skating Women's 500 metres</td>\n",
       "      <td>No</td>\n",
       "    </tr>\n",
       "  </tbody>\n",
       "</table>\n",
       "</div>"
      ],
      "text/plain": [
       "                       Name Sex  Age  Height  Weight            Team  NOC  \\\n",
       "0                 A Dijiang   M   24     180      80           China  CHN   \n",
       "1                  A Lamusi   M   23     170      60           China  CHN   \n",
       "2       Gunnar Nielsen Aaby   M   24     175      70         Denmark  DEN   \n",
       "3      Edgar Lindenau Aabye   M   34     188      95  Denmark/Sweden  DEN   \n",
       "4  Christine Jacoba Aaftink   F   21     185      82     Netherlands  NED   \n",
       "\n",
       "   Year  Season       City          Sport                             Event  \\\n",
       "0  1992  Summer  Barcelona     Basketball       Basketball Men's Basketball   \n",
       "1  2012  Summer     London           Judo      Judo Men's Extra-Lightweight   \n",
       "2  1920  Summer  Antwerpen       Football           Football Men's Football   \n",
       "3  1900  Summer      Paris     Tug-Of-War       Tug-Of-War Men's Tug-Of-War   \n",
       "4  1988  Winter    Calgary  Speed Skating  Speed Skating Women's 500 metres   \n",
       "\n",
       "  Medal  \n",
       "0    No  \n",
       "1    No  \n",
       "2    No  \n",
       "3  Gold  \n",
       "4    No  "
      ]
     },
     "execution_count": 3,
     "metadata": {},
     "output_type": "execute_result"
    }
   ],
   "source": [
    "athlete_events.head()"
   ]
  },
  {
   "cell_type": "code",
   "execution_count": 4,
   "id": "de8f70eb",
   "metadata": {
    "scrolled": true
   },
   "outputs": [
    {
     "data": {
      "text/plain": [
       "(269632, 13)"
      ]
     },
     "execution_count": 4,
     "metadata": {},
     "output_type": "execute_result"
    }
   ],
   "source": [
    "# ~ 270K row\n",
    "athlete_events.shape"
   ]
  },
  {
   "cell_type": "code",
   "execution_count": 5,
   "id": "4d7c6184",
   "metadata": {},
   "outputs": [
    {
     "data": {
      "text/html": [
       "<div>\n",
       "<style scoped>\n",
       "    .dataframe tbody tr th:only-of-type {\n",
       "        vertical-align: middle;\n",
       "    }\n",
       "\n",
       "    .dataframe tbody tr th {\n",
       "        vertical-align: top;\n",
       "    }\n",
       "\n",
       "    .dataframe thead th {\n",
       "        text-align: right;\n",
       "    }\n",
       "</style>\n",
       "<table border=\"1\" class=\"dataframe\">\n",
       "  <thead>\n",
       "    <tr style=\"text-align: right;\">\n",
       "      <th></th>\n",
       "      <th>Age</th>\n",
       "      <th>Height</th>\n",
       "      <th>Weight</th>\n",
       "      <th>Year</th>\n",
       "    </tr>\n",
       "  </thead>\n",
       "  <tbody>\n",
       "    <tr>\n",
       "      <th>count</th>\n",
       "      <td>269632.000000</td>\n",
       "      <td>269632.000000</td>\n",
       "      <td>269632.000000</td>\n",
       "      <td>269632.000000</td>\n",
       "    </tr>\n",
       "    <tr>\n",
       "      <th>mean</th>\n",
       "      <td>25.368491</td>\n",
       "      <td>175.163564</td>\n",
       "      <td>70.553681</td>\n",
       "      <td>1978.647238</td>\n",
       "    </tr>\n",
       "    <tr>\n",
       "      <th>std</th>\n",
       "      <td>6.070468</td>\n",
       "      <td>9.727301</td>\n",
       "      <td>13.110039</td>\n",
       "      <td>29.729793</td>\n",
       "    </tr>\n",
       "    <tr>\n",
       "      <th>min</th>\n",
       "      <td>10.000000</td>\n",
       "      <td>127.000000</td>\n",
       "      <td>25.000000</td>\n",
       "      <td>1896.000000</td>\n",
       "    </tr>\n",
       "    <tr>\n",
       "      <th>25%</th>\n",
       "      <td>22.000000</td>\n",
       "      <td>169.000000</td>\n",
       "      <td>62.000000</td>\n",
       "      <td>1960.000000</td>\n",
       "    </tr>\n",
       "    <tr>\n",
       "      <th>50%</th>\n",
       "      <td>24.000000</td>\n",
       "      <td>175.000000</td>\n",
       "      <td>70.000000</td>\n",
       "      <td>1988.000000</td>\n",
       "    </tr>\n",
       "    <tr>\n",
       "      <th>75%</th>\n",
       "      <td>28.000000</td>\n",
       "      <td>181.000000</td>\n",
       "      <td>77.000000</td>\n",
       "      <td>2002.000000</td>\n",
       "    </tr>\n",
       "    <tr>\n",
       "      <th>max</th>\n",
       "      <td>97.000000</td>\n",
       "      <td>229.000000</td>\n",
       "      <td>214.000000</td>\n",
       "      <td>2016.000000</td>\n",
       "    </tr>\n",
       "  </tbody>\n",
       "</table>\n",
       "</div>"
      ],
      "text/plain": [
       "                 Age         Height         Weight           Year\n",
       "count  269632.000000  269632.000000  269632.000000  269632.000000\n",
       "mean       25.368491     175.163564      70.553681    1978.647238\n",
       "std         6.070468       9.727301      13.110039      29.729793\n",
       "min        10.000000     127.000000      25.000000    1896.000000\n",
       "25%        22.000000     169.000000      62.000000    1960.000000\n",
       "50%        24.000000     175.000000      70.000000    1988.000000\n",
       "75%        28.000000     181.000000      77.000000    2002.000000\n",
       "max        97.000000     229.000000     214.000000    2016.000000"
      ]
     },
     "execution_count": 5,
     "metadata": {},
     "output_type": "execute_result"
    }
   ],
   "source": [
    "athlete_events.describe()"
   ]
  },
  {
   "cell_type": "code",
   "execution_count": 6,
   "id": "f4aab03d",
   "metadata": {},
   "outputs": [
    {
     "data": {
      "image/png": "[encoded data removed]",
      "text/plain": [
       "<Figure size 432x288 with 1 Axes>"
      ]
     },
     "metadata": {
      "needs_background": "light"
     },
     "output_type": "display_data"
    }
   ],
   "source": [
    "# Right-skewed distribution\n",
    "plt.hist(athlete_events['Age'], color='#607c8e')\n",
    "plt.show()"
   ]
  },
  {
   "cell_type": "code",
   "execution_count": 7,
   "id": "b83c4c4b",
   "metadata": {},
   "outputs": [
    {
     "data": {
      "image/png": "[encoded data removed]",
      "text/plain": [
       "<Figure size 432x288 with 1 Axes>"
      ]
     },
     "metadata": {
      "needs_background": "light"
     },
     "output_type": "display_data"
    }
   ],
   "source": [
    "# Alot of extreme values\n",
    "plt.boxplot(athlete_events['Age'])\n",
    "plt.show()"
   ]
  },
  {
   "cell_type": "markdown",
   "id": "af80a3c9",
   "metadata": {},
   "source": [
    "**Question 1:** What is the distribution of different ages for players who have won medals?  \n",
    "**Hypothesis 1:** I think the younger age is the age with the highest number of medals."
   ]
  },
  {
   "cell_type": "code",
   "execution_count": 8,
   "id": "236d0982",
   "metadata": {},
   "outputs": [
    {
     "data": {
      "text/plain": [
       "120"
      ]
     },
     "execution_count": 8,
     "metadata": {},
     "output_type": "execute_result"
    }
   ],
   "source": [
    "# 120 years of Olympic history: from 1896 to 2016\n",
    "athlete_events['Year'].max() - athlete_events['Year'].min()"
   ]
  },
  {
   "cell_type": "markdown",
   "id": "f744dca8",
   "metadata": {},
   "source": [
    "**Question 2:** I want to see the athletic development of each country during the years, and what is the most developed country in the sports during the years? \n",
    "**Hypothesis 2:** I think the country that is most interested in a specific sport at the beginning, is the country that is the most developed in this sport and the most medalized in this sport.  "
   ]
  },
  {
   "cell_type": "code",
   "execution_count": 9,
   "id": "a72e5db4",
   "metadata": {},
   "outputs": [
    {
     "data": {
      "text/plain": [
       "1183"
      ]
     },
     "execution_count": 9,
     "metadata": {},
     "output_type": "execute_result"
    }
   ],
   "source": [
    "# 1183 different country\n",
    "len(athlete_events['Team'].unique())"
   ]
  },
  {
   "cell_type": "markdown",
   "id": "0531807e",
   "metadata": {},
   "source": [
    "**Question 3:** Which country receives the most medals?  "
   ]
  },
  {
   "cell_type": "code",
   "execution_count": 10,
   "id": "30d3394e",
   "metadata": {
    "scrolled": true
   },
   "outputs": [
    {
     "data": {
      "text/plain": [
       "59"
      ]
     },
     "execution_count": 10,
     "metadata": {},
     "output_type": "execute_result"
    }
   ],
   "source": [
    "# 59 different sport\n",
    "len(athlete_events['Sport'].unique())"
   ]
  },
  {
   "cell_type": "markdown",
   "id": "0729f63e",
   "metadata": {},
   "source": [
    "**Question 4:** What is the most famous sport and the name of the player who has the most medals in this sport? and what is the leading country for this sport?"
   ]
  },
  {
   "cell_type": "code",
   "execution_count": 11,
   "id": "88f4347c",
   "metadata": {},
   "outputs": [
    {
     "data": {
      "text/plain": [
       "M    195261\n",
       "F     74371\n",
       "Name: Sex, dtype: int64"
      ]
     },
     "execution_count": 11,
     "metadata": {},
     "output_type": "execute_result"
    }
   ],
   "source": [
    "six = athlete_events['Sex'].value_counts()\n",
    "six"
   ]
  },
  {
   "cell_type": "code",
   "execution_count": 12,
   "id": "b54166d8",
   "metadata": {},
   "outputs": [
    {
     "data": {
      "image/png": "[encoded data removed]",
      "text/plain": [
       "<Figure size 432x288 with 1 Axes>"
      ]
     },
     "metadata": {
      "needs_background": "light"
     },
     "output_type": "display_data"
    }
   ],
   "source": [
    "plt.bar(dict(six).keys(), dict(six).values(), color='#607c8e')\n",
    "plt.show()"
   ]
  },
  {
   "cell_type": "markdown",
   "id": "99b65820",
   "metadata": {},
   "source": [
    "**Question 5:** What the distribution of the athletes for each sex during the years and the number of medals for each sex?  "
   ]
  }
 ],
 "metadata": {
  "kernelspec": {
   "display_name": "Python 3",
   "language": "python",
   "name": "python3"
  },
  "language_info": {
   "codemirror_mode": {
    "name": "ipython",
    "version": 3
   },
   "file_extension": ".py",
   "mimetype": "text/x-python",
   "name": "python",
   "nbconvert_exporter": "python",
   "pygments_lexer": "ipython3",
   "version": "3.8.8"
  }
 },
 "nbformat": 4,
 "nbformat_minor": 5
}
